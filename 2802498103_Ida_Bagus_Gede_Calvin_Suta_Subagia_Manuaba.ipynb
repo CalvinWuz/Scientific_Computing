{
  "nbformat": 4,
  "nbformat_minor": 0,
  "metadata": {
    "colab": {
      "provenance": [],
      "authorship_tag": "ABX9TyMXUMBNscCXzn4oAC5x8CiT",
      "include_colab_link": true
    },
    "kernelspec": {
      "name": "python3",
      "display_name": "Python 3"
    },
    "language_info": {
      "name": "python"
    }
  },
  "cells": [
    {
      "cell_type": "markdown",
      "metadata": {
        "id": "view-in-github",
        "colab_type": "text"
      },
      "source": [
        "<a href=\"https://colab.research.google.com/github/CalvinWuz/Scientific_Computing/blob/main/2802498103_Ida_Bagus_Gede_Calvin_Suta_Subagia_Manuaba.ipynb\" target=\"_parent\"><img src=\"https://colab.research.google.com/assets/colab-badge.svg\" alt=\"Open In Colab\"/></a>"
      ]
    },
    {
      "cell_type": "code",
      "execution_count": null,
      "metadata": {
        "colab": {
          "base_uri": "https://localhost:8080/",
          "height": 106
        },
        "id": "oXHXwF-rWP9q",
        "outputId": "7b5f636c-74e6-49bc-93cf-37488e7a2b35"
      },
      "outputs": [
        {
          "output_type": "error",
          "ename": "IndentationError",
          "evalue": "unindent does not match any outer indentation level (<tokenize>, line 30)",
          "traceback": [
            "\u001b[0;36m  File \u001b[0;32m\"<tokenize>\"\u001b[0;36m, line \u001b[0;32m30\u001b[0m\n\u001b[0;31m    else:\u001b[0m\n\u001b[0m    ^\u001b[0m\n\u001b[0;31mIndentationError\u001b[0m\u001b[0;31m:\u001b[0m unindent does not match any outer indentation level\n"
          ]
        }
      ],
      "source": [
        "def kalkulasi(nilai_akhir):\n",
        "    if final_score >= 89:\n",
        "        return 'A'\n",
        "    elif final_score >= 70:\n",
        "        return 'B'\n",
        "    elif final_score >= 56:\n",
        "        return 'C'\n",
        "    elif final_score >= 40:\n",
        "        return 'D'\n",
        "    else:\n",
        "        return 'F'\n",
        "def main():\n",
        "    username = input(\"Masukkan username: \")\n",
        "    password = input(\"Masukkan password: \")\n",
        "\n",
        "    if username == \"calvin\" and password == \"Bn123\":\n",
        "        print(\"Login berhasil!\")\n",
        "\n",
        "        nama_siswa = input(\"Masukkan nama siswa: \")\n",
        "        nilai_uas = int(input(\"Masukkan nilai UAS: \"))\n",
        "        nilai_uts = int(input(\"Masukkan nilai UTS: \"))\n",
        "        nilai_asg = int(input(\"Masukkan nilai ASG: \"))\n",
        "\n",
        "        final_score = (0.5 * nilai_uas) + (0.3 * nilai_uts) + (0.2 * nilai_asg)\n",
        "        grade = kalkulasi(nilai_akhir)\n",
        "\n",
        "print(f\"Nama Siswa: {nama_siswa}\")\n",
        "        print(f\"Nilai Akhir: {final_score:.2f}\")\n",
        "        print(f\"Grade: {grade}\")\n",
        "    else:\n",
        "        print(\"Username atau password salah. Silakan coba lagi.\")\n",
        "\n",
        "if __name__ == \"__main__\":\n",
        "    main()\n",
        "\n"
      ]
    },
    {
      "source": [
        "def kalkulasi(nilai_akhir):\n",
        "    if nilai_akhir >= 90:\n",
        "        return 'A'\n",
        "    elif nilai_akhir >= 85:\n",
        "        return 'A-'\n",
        "    elif nilai_akhir >= 80:\n",
        "        return 'B+'\n",
        "    elif nilai_akhir >= 75:\n",
        "        return 'B'\n",
        "    elif nilai_akhir >= 70:\n",
        "        return 'B-'\n",
        "    elif nilai_akhir >= 65:\n",
        "        return 'C'\n",
        "    elif nilai_akhir >= 50:\n",
        "        return 'D'\n",
        "    else:\n",
        "        return 'E'"
      ],
      "cell_type": "code",
      "metadata": {
        "id": "DkAyfIsmv7tH"
      },
      "execution_count": null,
      "outputs": []
    },
    {
      "source": [
        "def kalkulasi(nilai_akhir):\n",
        "    if nilai_akhir >= 90:\n",
        "        return 'A'\n",
        "    elif nilai_akhir >= 85:\n",
        "        return 'A-'\n",
        "    elif nilai_akhir >= 80:\n",
        "        return 'B+'\n",
        "    elif nilai_akhir >= 75:\n",
        "        return 'B'\n",
        "    elif nilai_akhir >= 70:\n",
        "        return 'B-'\n",
        "    elif nilai_akhir >= 65:\n",
        "        return 'C'\n",
        "    elif nilai_akhir >= 50:\n",
        "        return 'D'\n",
        "    else:\n",
        "        return 'E'\n",
        "\n",
        "def main():\n",
        "    username = input(\"Masukkan username: \")\n",
        "    password = input(\"Masukkan password: \")\n",
        "\n",
        "    if username == \"calvin\" and password == \"Bn123\":\n",
        "        print(\"Login berhasil!\")\n",
        "\n",
        "        nama_siswa = input(\"Masukkan nama siswa: \")\n",
        "        nilai_uas = int(input(\"Masukkan nilai UAS: \"))\n",
        "        nilai_uts = int(input(\"Masukkan nilai UTS: \"))\n",
        "        nilai_asg = int(input(\"Masukkan nilai ASG: \"))\n",
        "\n",
        "        final_score = (0.5 * nilai_uas) + (0.3 * nilai_uts) + (0.2 * nilai_asg)\n",
        "        grade = kalkulasi(final_score) # Changed nilai_akhir to final_score\n",
        "\n",
        "        print(f\"Nama Siswa: {nama_siswa}\") # Corrected indentation\n",
        "        print(f\"Nilai Akhir: {final_score:.2f}\") # Corrected indentation\n",
        "        print(f\"Grade: {grade}\") # Corrected indentation\n",
        "    else:\n",
        "        print(\"Username atau password salah. Silakan coba lagi.\")\n",
        "\n",
        "if __name__ == \"__main__\":\n",
        "    main()"
      ],
      "cell_type": "code",
      "metadata": {
        "colab": {
          "base_uri": "https://localhost:8080/"
        },
        "id": "s2i01BvPXdTh",
        "outputId": "63f8673a-c29b-48ed-a5f4-398c3af5d126"
      },
      "execution_count": null,
      "outputs": [
        {
          "output_type": "stream",
          "name": "stdout",
          "text": [
            "Masukkan username: calvin\n",
            "Masukkan password: Bn123\n",
            "Login berhasil!\n",
            "Masukkan nama siswa: calvin\n",
            "Masukkan nilai UAS: 90\n",
            "Masukkan nilai UTS: 87\n",
            "Masukkan nilai ASG: 89\n",
            "Nama Siswa: calvin\n",
            "Nilai Akhir: 88.90\n",
            "Grade: A-\n"
          ]
        }
      ]
    }
  ]
}