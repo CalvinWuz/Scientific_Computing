{
  "nbformat": 4,
  "nbformat_minor": 0,
  "metadata": {
    "colab": {
      "provenance": [],
      "authorship_tag": "ABX9TyOhA59C+6XefVwRjzhiPK8C",
      "include_colab_link": true
    },
    "kernelspec": {
      "name": "python3",
      "display_name": "Python 3"
    },
    "language_info": {
      "name": "python"
    }
  },
  "cells": [
    {
      "cell_type": "markdown",
      "metadata": {
        "id": "view-in-github",
        "colab_type": "text"
      },
      "source": [
        "<a href=\"https://colab.research.google.com/github/CalvinWuz/Scientific_Computing/blob/main/modul_2_2802498103.ipynb\" target=\"_parent\"><img src=\"https://colab.research.google.com/assets/colab-badge.svg\" alt=\"Open In Colab\"/></a>"
      ]
    },
    {
      "cell_type": "code",
      "execution_count": 3,
      "metadata": {
        "colab": {
          "base_uri": "https://localhost:8080/"
        },
        "id": "LYmm4dBbezyK",
        "outputId": "8a4b4ce3-166a-476a-cf48-e4086970773c"
      },
      "outputs": [
        {
          "output_type": "stream",
          "name": "stdout",
          "text": [
            "Matriks tidak dominan diagonal. Gauss-Seidel mungkin tidak konvergen.\n",
            "Hasil Gauss-Seidel: [-8.85379963e+93 -2.65613989e+94  7.96841967e+94]\n"
          ]
        }
      ],
      "source": [
        "import numpy as np\n",
        "\n",
        "def is_diagonally_dominant(A):\n",
        "    \"\"\"Memeriksa apakah matriks A dominan diagonal.\"\"\"\n",
        "    for i in range(len(A)):\n",
        "        if abs(A[i][i]) < sum(abs(A[i][j]) for j in range(len(A)) if i != j):\n",
        "            return False\n",
        "    return True\n",
        "\n",
        "def gauss_seidel(A, b, x_init, tol=1e-3, max_iter=100):\n",
        "    \"\"\"Menyelesaikan sistem linear Ax = b menggunakan metode Gauss-Seidel.\"\"\"\n",
        "    n = len(b)\n",
        "    x = x_init.copy()\n",
        "\n",
        "    for _ in range(max_iter):\n",
        "        x_new = x.copy()\n",
        "        for i in range(n):\n",
        "            sum1 = sum(A[i][j] * x_new[j] for j in range(i))  # Sebelum diagonal\n",
        "            sum2 = sum(A[i][j] * x[j] for j in range(i + 1, n))  # Setelah diagonal\n",
        "            x_new[i] = (b[i] - sum1 - sum2) / A[i][i]\n",
        "\n",
        "        # Cek konvergensi\n",
        "        if np.linalg.norm(x_new - x, ord=np.inf) < tol:\n",
        "            return x_new\n",
        "        x = x_new\n",
        "\n",
        "    return x  # Jika tidak konvergen dalam max_iter\n",
        "\n",
        "# (a) Penyelesaian dengan metode Gauss-Seidel\n",
        "A = np.array([[2, 3, -1],\n",
        "              [1, -1, 2],\n",
        "              [3, 2, 1]])\n",
        "\n",
        "b = np.array([10, 4, 14])\n",
        "\n",
        "# Nilai awal\n",
        "x_init = np.array([5.0, 5.0, 5.0])\n",
        "\n",
        "# Periksa apakah matriks dominan diagonal\n",
        "if not is_diagonally_dominant(A):\n",
        "    print(\"Matriks tidak dominan diagonal. Gauss-Seidel mungkin tidak konvergen.\")\n",
        "\n",
        "x_gauss_seidel = gauss_seidel(A, b, x_init)\n",
        "print(\"Hasil Gauss-Seidel:\", x_gauss_seidel)\n"
      ]
    },
    {
      "cell_type": "code",
      "source": [
        "# (b) Penyelesaian dengan numpy\n",
        "A = np.array([[2, 3, -1],\n",
        "              [1, -1, 2],\n",
        "              [3, 2, 1]])\n",
        "\n",
        "b = np.array([10, 4, 14])\n",
        "\n",
        "x_numpy = np.linalg.solve(A, b)\n",
        "print(\"Hasil Numpy:\", x_numpy)"
      ],
      "metadata": {
        "colab": {
          "base_uri": "https://localhost:8080/"
        },
        "id": "60d-gCk-mXa_",
        "outputId": "50f7836e-540b-4b29-bcd4-bc92ec97f828"
      },
      "execution_count": 4,
      "outputs": [
        {
          "output_type": "stream",
          "name": "stdout",
          "text": [
            "Hasil Numpy: [0.65 4.15 3.75]\n"
          ]
        }
      ]
    },
    {
      "cell_type": "code",
      "source": [
        "import numpy as np\n",
        "\n",
        "def gauss_seidel(A, b, x_init, tol=1e-3, max_iter=100):\n",
        "    \"\"\"Menyelesaikan sistem linear Ax = b menggunakan metode Gauss-Seidel.\"\"\"\n",
        "    n = len(b)\n",
        "    x = x_init.copy()\n",
        "\n",
        "    for _ in range(max_iter):\n",
        "        x_new = x.copy()\n",
        "        for i in range(n):\n",
        "            sum1 = sum(A[i][j] * x_new[j] for j in range(i))  # Sebelum diagonal\n",
        "            sum2 = sum(A[i][j] * x[j] for j in range(i + 1, n))  # Setelah diagonal\n",
        "            x_new[i] = (b[i] - sum1 - sum2) / A[i][i]\n",
        "\n",
        "        # Cek konvergensi\n",
        "        if np.linalg.norm(x_new - x, ord=np.inf) < tol:\n",
        "            return x_new\n",
        "        x = x_new\n",
        "\n",
        "    return x  # Jika tidak konvergen dalam max_iter\n",
        "\n",
        "# (a) Penyelesaian dengan metode Gauss-Seidel\n",
        "A = np.array([[3, -0.1, -0.2],\n",
        "              [0.1, 7, -0.3],\n",
        "              [0.3, -0.2, 10]])\n",
        "\n",
        "b = np.array([7.85, -19.3, 71.4])\n",
        "\n",
        "# Nilai awal\n",
        "x_init = np.array([1.0, 2.0, 3.0])\n",
        "\n",
        "x_gauss_seidel = gauss_seidel(A, b, x_init)\n",
        "print(\"Hasil Gauss-Seidel:\", x_gauss_seidel)\n"
      ],
      "metadata": {
        "colab": {
          "base_uri": "https://localhost:8080/"
        },
        "id": "SA_0B8WtmqVl",
        "outputId": "7a81cb17-3491-471a-e5a9-4e47fcbfa9fd"
      },
      "execution_count": 5,
      "outputs": [
        {
          "output_type": "stream",
          "name": "stdout",
          "text": [
            "Hasil Gauss-Seidel: [ 3.00000022 -2.50000002  6.99999999]\n"
          ]
        }
      ]
    },
    {
      "cell_type": "code",
      "source": [
        "import numpy as np\n",
        "\n",
        "def gauss_seidel(A, b, x_init, tol=1e-3, max_iter=100):\n",
        "    \"\"\"Menyelesaikan sistem linear Ax = b menggunakan metode Gauss-Seidel.\"\"\"\n",
        "    n = len(b)\n",
        "    x = x_init.copy()\n",
        "\n",
        "    for _ in range(max_iter):\n",
        "        x_new = x.copy()\n",
        "        for i in range(n):\n",
        "            sum1 = sum(A[i][j] * x_new[j] for j in range(i))  # Sebelum diagonal\n",
        "            sum2 = sum(A[i][j] * x[j] for j in range(i + 1, n))  # Setelah diagonal\n",
        "            x_new[i] = (b[i] - sum1 - sum2) / A[i][i]\n",
        "\n",
        "        # Cek konvergensi\n",
        "        if np.linalg.norm(x_new - x, ord=np.inf) < tol:\n",
        "            return x_new\n",
        "        x = x_new\n",
        "\n",
        "    return x  # Jika tidak konvergen dalam max_iter\n",
        "\n",
        "# (a) Penyelesaian dengan metode Gauss-Seidel\n",
        "A = np.array([[3, -0.1, -0.2],\n",
        "              [0.1, 7, -0.3],\n",
        "              [0.3, -0.2, 10]])\n",
        "\n",
        "b = np.array([7.85, -19.3, 71.4])\n",
        "\n",
        "# Nilai awal\n",
        "x_init = np.array([1.0, 2.0, 3.0])\n",
        "\n",
        "x_gauss_seidel = gauss_seidel(A, b, x_init)\n",
        "print(\"Hasil Gauss-Seidel:\", x_gauss_seidel)\n",
        "\n",
        "# (b) Penyelesaian dengan numpy\n",
        "x_numpy = np.linalg.solve(A, b)\n",
        "print(\"Hasil Numpy:\", x_numpy)\n"
      ],
      "metadata": {
        "colab": {
          "base_uri": "https://localhost:8080/"
        },
        "id": "6TO2OqPwm2tE",
        "outputId": "5f4d4b08-58ff-457d-9932-9548904996f5"
      },
      "execution_count": 6,
      "outputs": [
        {
          "output_type": "stream",
          "name": "stdout",
          "text": [
            "Hasil Gauss-Seidel: [ 3.00000022 -2.50000002  6.99999999]\n",
            "Hasil Numpy: [ 3.  -2.5  7. ]\n"
          ]
        }
      ]
    },
    {
      "cell_type": "code",
      "source": [
        "import numpy as np\n",
        "import matplotlib.pyplot as plt\n",
        "\n",
        "def least_squares(X, Y):\n",
        "    \"\"\"Menghitung nilai a dan b pada regresi linear (y = ax + b) dengan metode Least Squares.\"\"\"\n",
        "    n = len(X)\n",
        "    sum_x = np.sum(X)\n",
        "    sum_y = np.sum(Y)\n",
        "    sum_xx = np.sum(X**2)\n",
        "    sum_xy = np.sum(X*Y)\n",
        "\n",
        "    a = (n * sum_xy - sum_x * sum_y) / (n * sum_xx - sum_x**2)\n",
        "    b = (sum_y - a * sum_x) / n\n",
        "\n",
        "    return a, b\n",
        "\n",
        "# Data\n",
        "X = np.array([5, 4, 6, 7, 5])\n",
        "Y = np.array([10, 8, 12, 14, 10])\n",
        "\n",
        "# (a) Menentukan nilai a dan b\n",
        "a, b = least_squares(X, Y)\n",
        "print(f\"Persamaan regresi: y = {a:.4f}x + {b:.4f}\")\n",
        "\n",
        "# (b) Plot hasil regresi\n",
        "plt.scatter(X, Y, color='red', label='Data')\n",
        "X_line = np.linspace(min(X), max(X), 100)\n",
        "Y_line = a * X_line + b\n",
        "plt.plot(X_line, Y_line, color='blue', label='Regresi Linear')\n",
        "plt.xlabel('X')\n",
        "plt.ylabel('Y')\n",
        "plt.legend()\n",
        "plt.title('Regresi Linear dengan Metode Least Squares')\n",
        "plt.show()\n"
      ],
      "metadata": {
        "colab": {
          "base_uri": "https://localhost:8080/",
          "height": 489
        },
        "id": "J1l_Q4XwnUV7",
        "outputId": "d88237bd-5c05-426b-d4db-b0cae7eb8a25"
      },
      "execution_count": 7,
      "outputs": [
        {
          "output_type": "stream",
          "name": "stdout",
          "text": [
            "Persamaan regresi: y = 2.0000x + 0.0000\n"
          ]
        },
        {
          "output_type": "display_data",
          "data": {
            "text/plain": [
              "<Figure size 640x480 with 1 Axes>"
            ],
            "image/png": "[encoded data removed]"
          },
          "metadata": {}
        }
      ]
    }
  ]
}